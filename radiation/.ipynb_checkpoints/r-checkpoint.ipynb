{
 "cells": [
  {
   "cell_type": "code",
   "execution_count": 1,
   "metadata": {},
   "outputs": [
    {
     "name": "stderr",
     "output_type": "stream",
     "text": [
      "── Attaching packages ─────────────────────────────────────── tidyverse 1.2.1 ──\n",
      "✔ ggplot2 2.2.1     ✔ purrr   0.2.4\n",
      "✔ tibble  1.3.4     ✔ dplyr   0.7.4\n",
      "✔ tidyr   0.7.2     ✔ stringr 1.2.0\n",
      "✔ readr   1.1.1     ✔ forcats 0.2.0\n",
      "── Conflicts ────────────────────────────────────────── tidyverse_conflicts() ──\n",
      "✖ dplyr::filter() masks stats::filter()\n",
      "✖ dplyr::lag()    masks stats::lag()\n"
     ]
    }
   ],
   "source": [
    "library(tidyverse)"
   ]
  },
  {
   "cell_type": "code",
   "execution_count": 2,
   "metadata": {},
   "outputs": [
    {
     "name": "stderr",
     "output_type": "stream",
     "text": [
      "Parsed with column specification:\n",
      "cols(\n",
      "  State = col_character(),\n",
      "  Location = col_character(),\n",
      "  `Date Posted` = col_character(),\n",
      "  `Date Collected` = col_character(),\n",
      "  `Sample Type` = col_character(),\n",
      "  Unit = col_character(),\n",
      "  `Ba-140` = col_character(),\n",
      "  `Co-60` = col_character(),\n",
      "  `Cs-134` = col_character(),\n",
      "  `Cs-136` = col_character(),\n",
      "  `Cs-137` = col_character(),\n",
      "  `I-131` = col_character(),\n",
      "  `I-132` = col_character(),\n",
      "  `I-133` = col_character(),\n",
      "  `Te-129` = col_character(),\n",
      "  `Te-129m` = col_character(),\n",
      "  `Te-132` = col_character()\n",
      ")\n"
     ]
    }
   ],
   "source": [
    "radiation <- read_csv(\"RadNet_Laboratory_Analysis.csv\")"
   ]
  },
  {
   "cell_type": "code",
   "execution_count": 3,
   "metadata": {},
   "outputs": [
    {
     "data": {
      "text/html": [
       "<table>\n",
       "<thead><tr><th scope=col>State</th><th scope=col>Location</th><th scope=col>Date Posted</th><th scope=col>Date Collected</th><th scope=col>Sample Type</th><th scope=col>Unit</th><th scope=col>Ba-140</th><th scope=col>Co-60</th><th scope=col>Cs-134</th><th scope=col>Cs-136</th><th scope=col>Cs-137</th><th scope=col>I-131</th><th scope=col>I-132</th><th scope=col>I-133</th><th scope=col>Te-129</th><th scope=col>Te-129m</th><th scope=col>Te-132</th></tr></thead>\n",
       "<tbody>\n",
       "\t<tr><td>ID        </td><td>Boise     </td><td>03/30/2011</td><td>03/23/2011</td><td>Air Filter</td><td>pCi/m3    </td><td>Non-detect</td><td>Non-detect</td><td>Non-detect</td><td>NA        </td><td>Non-detect</td><td>0.088     </td><td>Non-detect</td><td>Non-detect</td><td>NA        </td><td>NA        </td><td>Non-detect</td></tr>\n",
       "\t<tr><td>ID        </td><td>Boise     </td><td>03/30/2011</td><td>03/23/2011</td><td>Air Filter</td><td>pCi/m3    </td><td>Non-detect</td><td>Non-detect</td><td>Non-detect</td><td>NA        </td><td>Non-detect</td><td>0.055     </td><td>Non-detect</td><td>Non-detect</td><td>NA        </td><td>NA        </td><td>Non-detect</td></tr>\n",
       "\t<tr><td>AK        </td><td>Juneau    </td><td>03/30/2011</td><td>03/23/2011</td><td>Air Filter</td><td>pCi/m3    </td><td>Non-detect</td><td>Non-detect</td><td>0.0057    </td><td>NA        </td><td>0.0074    </td><td>0.067     </td><td>Non-detect</td><td>Non-detect</td><td>NA        </td><td>NA        </td><td>0.0043    </td></tr>\n",
       "\t<tr><td>AK        </td><td>Nome      </td><td>03/30/2011</td><td>03/22/2011</td><td>Air Filter</td><td>pCi/m3    </td><td>Non-detect</td><td>Non-detect</td><td>Non-detect</td><td>NA        </td><td>Non-detect</td><td>0.096     </td><td>Non-detect</td><td>Non-detect</td><td>NA        </td><td>NA        </td><td>Non-detect</td></tr>\n",
       "\t<tr><td>AK        </td><td>Nome      </td><td>03/30/2011</td><td>03/23/2011</td><td>Air Filter</td><td>pCi/m3    </td><td>Non-detect</td><td>Non-detect</td><td>Non-detect</td><td>NA        </td><td>Non-detect</td><td>0.22      </td><td>Non-detect</td><td>Non-detect</td><td>NA        </td><td>NA        </td><td>Non-detect</td></tr>\n",
       "\t<tr><td>AK        </td><td>Nome      </td><td>03/30/2011</td><td>03/23/2011</td><td>Air Filter</td><td>pCi/m3    </td><td>Non-detect</td><td>Non-detect</td><td>0.016     </td><td>NA        </td><td>0.023     </td><td>0.2       </td><td>0.019     </td><td>Non-detect</td><td>NA        </td><td>NA        </td><td>0.027     </td></tr>\n",
       "</tbody>\n",
       "</table>\n"
      ],
      "text/latex": [
       "\\begin{tabular}{r|lllllllllllllllll}\n",
       " State & Location & Date Posted & Date Collected & Sample Type & Unit & Ba-140 & Co-60 & Cs-134 & Cs-136 & Cs-137 & I-131 & I-132 & I-133 & Te-129 & Te-129m & Te-132\\\\\n",
       "\\hline\n",
       "\t ID         & Boise      & 03/30/2011 & 03/23/2011 & Air Filter & pCi/m3     & Non-detect & Non-detect & Non-detect & NA         & Non-detect & 0.088      & Non-detect & Non-detect & NA         & NA         & Non-detect\\\\\n",
       "\t ID         & Boise      & 03/30/2011 & 03/23/2011 & Air Filter & pCi/m3     & Non-detect & Non-detect & Non-detect & NA         & Non-detect & 0.055      & Non-detect & Non-detect & NA         & NA         & Non-detect\\\\\n",
       "\t AK         & Juneau     & 03/30/2011 & 03/23/2011 & Air Filter & pCi/m3     & Non-detect & Non-detect & 0.0057     & NA         & 0.0074     & 0.067      & Non-detect & Non-detect & NA         & NA         & 0.0043    \\\\\n",
       "\t AK         & Nome       & 03/30/2011 & 03/22/2011 & Air Filter & pCi/m3     & Non-detect & Non-detect & Non-detect & NA         & Non-detect & 0.096      & Non-detect & Non-detect & NA         & NA         & Non-detect\\\\\n",
       "\t AK         & Nome       & 03/30/2011 & 03/23/2011 & Air Filter & pCi/m3     & Non-detect & Non-detect & Non-detect & NA         & Non-detect & 0.22       & Non-detect & Non-detect & NA         & NA         & Non-detect\\\\\n",
       "\t AK         & Nome       & 03/30/2011 & 03/23/2011 & Air Filter & pCi/m3     & Non-detect & Non-detect & 0.016      & NA         & 0.023      & 0.2        & 0.019      & Non-detect & NA         & NA         & 0.027     \\\\\n",
       "\\end{tabular}\n"
      ],
      "text/markdown": [
       "\n",
       "State | Location | Date Posted | Date Collected | Sample Type | Unit | Ba-140 | Co-60 | Cs-134 | Cs-136 | Cs-137 | I-131 | I-132 | I-133 | Te-129 | Te-129m | Te-132 | \n",
       "|---|---|---|---|---|---|\n",
       "| ID         | Boise      | 03/30/2011 | 03/23/2011 | Air Filter | pCi/m3     | Non-detect | Non-detect | Non-detect | NA         | Non-detect | 0.088      | Non-detect | Non-detect | NA         | NA         | Non-detect | \n",
       "| ID         | Boise      | 03/30/2011 | 03/23/2011 | Air Filter | pCi/m3     | Non-detect | Non-detect | Non-detect | NA         | Non-detect | 0.055      | Non-detect | Non-detect | NA         | NA         | Non-detect | \n",
       "| AK         | Juneau     | 03/30/2011 | 03/23/2011 | Air Filter | pCi/m3     | Non-detect | Non-detect | 0.0057     | NA         | 0.0074     | 0.067      | Non-detect | Non-detect | NA         | NA         | 0.0043     | \n",
       "| AK         | Nome       | 03/30/2011 | 03/22/2011 | Air Filter | pCi/m3     | Non-detect | Non-detect | Non-detect | NA         | Non-detect | 0.096      | Non-detect | Non-detect | NA         | NA         | Non-detect | \n",
       "| AK         | Nome       | 03/30/2011 | 03/23/2011 | Air Filter | pCi/m3     | Non-detect | Non-detect | Non-detect | NA         | Non-detect | 0.22       | Non-detect | Non-detect | NA         | NA         | Non-detect | \n",
       "| AK         | Nome       | 03/30/2011 | 03/23/2011 | Air Filter | pCi/m3     | Non-detect | Non-detect | 0.016      | NA         | 0.023      | 0.2        | 0.019      | Non-detect | NA         | NA         | 0.027      | \n",
       "\n",
       "\n"
      ],
      "text/plain": [
       "  State Location Date Posted Date Collected Sample Type Unit   Ba-140    \n",
       "1 ID    Boise    03/30/2011  03/23/2011     Air Filter  pCi/m3 Non-detect\n",
       "2 ID    Boise    03/30/2011  03/23/2011     Air Filter  pCi/m3 Non-detect\n",
       "3 AK    Juneau   03/30/2011  03/23/2011     Air Filter  pCi/m3 Non-detect\n",
       "4 AK    Nome     03/30/2011  03/22/2011     Air Filter  pCi/m3 Non-detect\n",
       "5 AK    Nome     03/30/2011  03/23/2011     Air Filter  pCi/m3 Non-detect\n",
       "6 AK    Nome     03/30/2011  03/23/2011     Air Filter  pCi/m3 Non-detect\n",
       "  Co-60      Cs-134     Cs-136 Cs-137     I-131 I-132      I-133      Te-129\n",
       "1 Non-detect Non-detect NA     Non-detect 0.088 Non-detect Non-detect NA    \n",
       "2 Non-detect Non-detect NA     Non-detect 0.055 Non-detect Non-detect NA    \n",
       "3 Non-detect 0.0057     NA     0.0074     0.067 Non-detect Non-detect NA    \n",
       "4 Non-detect Non-detect NA     Non-detect 0.096 Non-detect Non-detect NA    \n",
       "5 Non-detect Non-detect NA     Non-detect 0.22  Non-detect Non-detect NA    \n",
       "6 Non-detect 0.016      NA     0.023      0.2   0.019      Non-detect NA    \n",
       "  Te-129m Te-132    \n",
       "1 NA      Non-detect\n",
       "2 NA      Non-detect\n",
       "3 NA      0.0043    \n",
       "4 NA      Non-detect\n",
       "5 NA      Non-detect\n",
       "6 NA      0.027     "
      ]
     },
     "metadata": {},
     "output_type": "display_data"
    }
   ],
   "source": [
    "head(radiation)"
   ]
  },
  {
   "cell_type": "code",
   "execution_count": null,
   "metadata": {
    "collapsed": true
   },
   "outputs": [],
   "source": []
  }
 ],
 "metadata": {
  "anaconda-cloud": {},
  "kernelspec": {
   "display_name": "R",
   "language": "R",
   "name": "ir"
  },
  "language_info": {
   "codemirror_mode": "r",
   "file_extension": ".r",
   "mimetype": "text/x-r-source",
   "name": "R",
   "pygments_lexer": "r",
   "version": "3.3.2"
  }
 },
 "nbformat": 4,
 "nbformat_minor": 1
}
