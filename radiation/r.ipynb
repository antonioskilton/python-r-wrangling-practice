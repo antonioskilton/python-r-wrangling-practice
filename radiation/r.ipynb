{
 "cells": [
  {
   "cell_type": "code",
   "execution_count": 1,
   "metadata": {},
   "outputs": [
    {
     "name": "stderr",
     "output_type": "stream",
     "text": [
      "── Attaching packages ─────────────────────────────────────── tidyverse 1.2.1 ──\n",
      "✔ ggplot2 2.2.1     ✔ purrr   0.2.4\n",
      "✔ tibble  1.3.4     ✔ dplyr   0.7.4\n",
      "✔ tidyr   0.7.2     ✔ stringr 1.2.0\n",
      "✔ readr   1.1.1     ✔ forcats 0.2.0\n",
      "── Conflicts ────────────────────────────────────────── tidyverse_conflicts() ──\n",
      "✖ dplyr::filter() masks stats::filter()\n",
      "✖ dplyr::lag()    masks stats::lag()\n"
     ]
    }
   ],
   "source": [
    "library(tidyverse)"
   ]
  },
  {
   "cell_type": "code",
   "execution_count": 2,
   "metadata": {},
   "outputs": [
    {
     "name": "stderr",
     "output_type": "stream",
     "text": [
      "Parsed with column specification:\n",
      "cols(\n",
      "  State = col_character(),\n",
      "  Location = col_character(),\n",
      "  `Date Posted` = col_character(),\n",
      "  `Date Collected` = col_character(),\n",
      "  `Sample Type` = col_character(),\n",
      "  Unit = col_character(),\n",
      "  `Ba-140` = col_character(),\n",
      "  `Co-60` = col_character(),\n",
      "  `Cs-134` = col_character(),\n",
      "  `Cs-136` = col_character(),\n",
      "  `Cs-137` = col_character(),\n",
      "  `I-131` = col_character(),\n",
      "  `I-132` = col_character(),\n",
      "  `I-133` = col_character(),\n",
      "  `Te-129` = col_character(),\n",
      "  `Te-129m` = col_character(),\n",
      "  `Te-132` = col_character()\n",
      ")\n"
     ]
    }
   ],
   "source": [
    "radiation <- read_csv(\"RadNet_Laboratory_Analysis.csv\")"
   ]
  },
  {
   "cell_type": "code",
   "execution_count": null,
   "metadata": {
    "collapsed": true
   },
   "outputs": [],
   "source": []
  }
 ],
 "metadata": {
  "anaconda-cloud": {},
  "kernelspec": {
   "display_name": "R",
   "language": "R",
   "name": "ir"
  },
  "language_info": {
   "codemirror_mode": "r",
   "file_extension": ".r",
   "mimetype": "text/x-r-source",
   "name": "R",
   "pygments_lexer": "r",
   "version": "3.3.2"
  }
 },
 "nbformat": 4,
 "nbformat_minor": 1
}
